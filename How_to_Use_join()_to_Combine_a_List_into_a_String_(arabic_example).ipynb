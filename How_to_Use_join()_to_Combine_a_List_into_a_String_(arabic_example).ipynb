{
  "nbformat": 4,
  "nbformat_minor": 0,
  "metadata": {
    "colab": {
      "provenance": [],
      "authorship_tag": "ABX9TyM42yp/NlMnY5R0O/Et+/EV",
      "include_colab_link": true
    },
    "kernelspec": {
      "name": "python3",
      "display_name": "Python 3"
    },
    "language_info": {
      "name": "python"
    }
  },
  "cells": [
    {
      "cell_type": "markdown",
      "metadata": {
        "id": "view-in-github",
        "colab_type": "text"
      },
      "source": [
        "<a href=\"https://colab.research.google.com/github/HaboussiCodes/Python/blob/main/How_to_Use_join()_to_Combine_a_List_into_a_String_(arabic_example).ipynb\" target=\"_parent\"><img src=\"https://colab.research.google.com/assets/colab-badge.svg\" alt=\"Open In Colab\"/></a>"
      ]
    },
    {
      "cell_type": "markdown",
      "source": [
        "**How to Perform Mathematical Operations Using Sets in Python**\n",
        "\n",
        "Sets in Python are similar to sets in mathematics, and we can get various results based on the relationship that exists between sets\n"
      ],
      "metadata": {
        "id": "JoveFY_yphhk"
      }
    },
    {
      "cell_type": "markdown",
      "source": [
        "**Union** \n",
        "\n",
        "\n",
        "---\n",
        "\n",
        "\n",
        "The union of two sets is the set of all the individual items that exist in both sets. In the union, duplicates are ignored.\n",
        "\n",
        "\n"
      ],
      "metadata": {
        "id": "4BauxcuK82yg"
      }
    },
    {
      "cell_type": "code",
      "execution_count": 18,
      "metadata": {
        "colab": {
          "base_uri": "https://localhost:8080/"
        },
        "id": "E8YfdL0MoKyX",
        "outputId": "925b81d3-c375-49cb-ebea-1f817151ec26"
      },
      "outputs": [
        {
          "output_type": "stream",
          "name": "stdout",
          "text": [
            "{1, 2, 3, 4, 5, 7}\n"
          ]
        }
      ],
      "source": [
        "firstSet = {2, 3, 4, 5}\n",
        "\n",
        "secondSet = {1, 3, 5, 7}\n",
        "\n",
        "print(firstSet | secondSet)"
      ]
    },
    {
      "cell_type": "markdown",
      "source": [
        "**intersection**\n",
        "\n",
        "---\n",
        "The intersection of two sets is the set of items that are common to both sets.\n",
        "\n"
      ],
      "metadata": {
        "id": "j0uvsMVm9PhK"
      }
    },
    {
      "cell_type": "code",
      "source": [
        "firstSet = {2, 3, 4, 5}\n",
        "\n",
        "secondSet = {1, 3, 5, 7}\n",
        "\n",
        "print(firstSet & secondSet)"
      ],
      "metadata": {
        "colab": {
          "base_uri": "https://localhost:8080/"
        },
        "id": "hqXrICv8ymCr",
        "outputId": "7c85f5ea-cb07-40d9-8d56-fc343fb90f2a"
      },
      "execution_count": 19,
      "outputs": [
        {
          "output_type": "stream",
          "name": "stdout",
          "text": [
            "{3, 5}\n"
          ]
        }
      ]
    },
    {
      "cell_type": "markdown",
      "source": [
        "\n",
        "**difference**\n",
        "\n",
        "---\n",
        "\n",
        "\n",
        "The difference between two sets is the set of all the items that exist in one set but not the other."
      ],
      "metadata": {
        "id": "lO6EMohs--V8"
      }
    },
    {
      "cell_type": "code",
      "source": [
        "firstSet = {2, 3, 4, 5}\n",
        "\n",
        "secondSet = {1, 3, 5, 7}\n",
        "\n",
        "print(firstSet - secondSet)"
      ],
      "metadata": {
        "colab": {
          "base_uri": "https://localhost:8080/"
        },
        "id": "qDuDb2jY8TDn",
        "outputId": "cfa0f74f-dcef-42f1-dd5f-f6c7d8e30320"
      },
      "execution_count": 20,
      "outputs": [
        {
          "output_type": "stream",
          "name": "stdout",
          "text": [
            "{2, 4}\n"
          ]
        }
      ]
    },
    {
      "cell_type": "markdown",
      "source": [
        "**Symmetric Difference**\n",
        "\n",
        "---\n",
        "\n",
        "The symmetric difference of two sets is the set of all items that exist in either of the two sets but not in both.\n"
      ],
      "metadata": {
        "id": "RZ-rTAza_RbJ"
      }
    },
    {
      "cell_type": "code",
      "source": [
        "firstSet = {2, 3, 4, 5}\n",
        "\n",
        "secondSet = {1, 3, 5, 7}\n",
        "\n",
        "print(firstSet ^ secondSet)\n"
      ],
      "metadata": {
        "colab": {
          "base_uri": "https://localhost:8080/"
        },
        "id": "41vyZ5wQ81yo",
        "outputId": "05e4233b-00ab-47bf-b812-46c15eed6b5d"
      },
      "execution_count": 21,
      "outputs": [
        {
          "output_type": "stream",
          "name": "stdout",
          "text": [
            "{1, 2, 4, 7}\n"
          ]
        }
      ]
    }
  ]
}