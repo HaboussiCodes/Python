{
  "nbformat": 4,
  "nbformat_minor": 0,
  "metadata": {
    "colab": {
      "provenance": []
    },
    "kernelspec": {
      "name": "python3",
      "display_name": "Python 3"
    },
    "language_info": {
      "name": "python"
    }
  },
  "cells": [
    {
      "cell_type": "markdown",
      "source": [
        "**How to Use join() to Combine a List into a String**\n",
        "\n",
        "\n"
      ],
      "metadata": {
        "id": "JoveFY_yphhk"
      }
    },
    {
      "cell_type": "code",
      "execution_count": 12,
      "metadata": {
        "colab": {
          "base_uri": "https://localhost:8080/",
          "height": 107
        },
        "id": "E8YfdL0MoKyX",
        "outputId": "95f71e3f-6d27-438b-a315-390220859818"
      },
      "outputs": [
        {
          "output_type": "stream",
          "name": "stdout",
          "text": [
            "نادراً      ماكنا نخرج  من  البيت  لم يكن أحدنا يحتاج \n",
            "غير الآخر            حتى طفلنا لم يكن ثالثنا في البيت بل كنا   كلانا فيه معاُ  لم يكن في دنيانا غيرها و غيري\n",
            "['نادراً', 'ماكنا', 'نخرج', 'من', 'البيت', 'لم', 'يكن', 'أحدنا', 'يحتاج', 'غير', 'الآخر', 'حتى', 'طفلنا', 'لم', 'يكن', 'ثالثنا', 'في', 'البيت', 'بل', 'كنا', 'كلانا', 'فيه', 'معاُ', 'لم', 'يكن', 'في', 'دنيانا', 'غيرها', 'و', 'غيري']\n"
          ]
        },
        {
          "output_type": "execute_result",
          "data": {
            "text/plain": [
              "'نادراً ماكنا نخرج من البيت لم يكن أحدنا يحتاج غير الآخر حتى طفلنا لم يكن ثالثنا في البيت بل كنا كلانا فيه معاُ لم يكن في دنيانا غيرها و غيري'"
            ],
            "application/vnd.google.colaboratory.intrinsic+json": {
              "type": "string"
            }
          },
          "metadata": {},
          "execution_count": 12
        }
      ],
      "source": [
        "paragraph=\"\"\"نادراً      ماكنا نخرج  من  البيت  لم يكن أحدنا يحتاج \n",
        "غير الآخر            حتى طفلنا لم يكن ثالثنا في البيت بل كنا   كلانا فيه معاُ  لم يكن في دنيانا غيرها و غيري\"\"\"\n",
        "#بهاء طاهر, نقطة النور\n",
        "print(paragraph)\n",
        "words =paragraph.split()\n",
        "print(words)\n",
        "separator= \" \"\n",
        "separator.join(words)"
      ]
    }
  ]
}